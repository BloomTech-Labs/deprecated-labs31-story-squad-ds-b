{
 "cells": [
  {
   "cell_type": "markdown",
   "metadata": {
    "id": "GfJCh0LoMKOF"
   },
   "source": [
    "# Generate synthetic training data"
   ]
  },
  {
   "cell_type": "markdown",
   "metadata": {
    "id": "prfYYl72Fdi6"
   },
   "source": [
    "## Tasks\n",
    "\n",
    "Possible Trello cards for the Text Transcription feature:\n",
    "- Find free fonts for (children’s) handwriting\n",
    "- Write a Python script to take a string of text and render an image using a handwriting font\n",
    "- Research how to fine-tune Tesseract for OCR with children’s handwriting (Plan A)\n",
    "- Research how to fine-tune TensorFlow computer vision models for OCR with children’s handwriting (Plan B)\n",
    "\n",
    "\n",
    "    "
   ]
  },
  {
   "cell_type": "markdown",
   "metadata": {
    "id": "1Qtdvu4iF3WN"
   },
   "source": [
    "## Find free fonts for (children’s) handwriting\n",
    "\n",
    "I found this tutorial: https://www.haptik.ai/tech/putting-text-on-image-using-python/\n",
    "\n",
    "\n",
    "It says, \n",
    "\n",
    "> For creating ImageFont objects we also need font(ttf, otf) files. You can use any font of your choice, here I’ll be using the  [Roboto](https://fonts.google.com/specimen/Roboto)  font which can be downloaded from the  [Google Fonts GitHub repo](https://github.com/google/fonts/tree/master/apache/roboto) . \n",
    "\n",
    "It looks like Google Fonts has a handwriting category: https://fonts.google.com/?category=Handwriting\n",
    "\n",
    "Here's a handwriting font called \"Indie Flower\" https://fonts.google.com/specimen/Indie+Flower\n",
    "\n",
    "I found it in the Google Fonts GitHub repo: https://github.com/google/fonts/tree/master/ofl/indieflower\n",
    "\n",
    "It can be downloaded with this link: https://github.com/google/fonts/blob/master/ofl/indieflower/IndieFlower-Regular.ttf?raw=true"
   ]
  },
  {
   "cell_type": "markdown",
   "metadata": {
    "id": "sgscFRgHLEC6"
   },
   "source": [
    "This command **get**s the URL from the **w**eb (`wget`) and saves the **o**utput (`-O`) to the filename `IndieFlower-Regular.ttf` (in the temporary cloud storage for this Colab notebook)"
   ]
  },
  {
   "cell_type": "code",
   "execution_count": 12,
   "metadata": {},
   "outputs": [],
   "source": [
    "import wget"
   ]
  },
  {
   "cell_type": "code",
   "execution_count": 14,
   "metadata": {
    "colab": {
     "base_uri": "https://localhost:8080/"
    },
    "id": "u9HrvHWSIukR",
    "outputId": "88770ba9-1c5f-4f8a-a03d-2e392b8ea8e4",
    "scrolled": true
   },
   "outputs": [
    {
     "name": "stdout",
     "output_type": "stream",
     "text": [
      "zsh:1: no matches found: https://github.com/google/fonts/blob/master/ofl/indieflower/IndieFlower-Regular.ttf?raw=true\r\n"
     ]
    }
   ],
   "source": [
    "!wget https://github.com/google/fonts/blob/master/ofl/indieflower/IndieFlower-Regular.ttf?raw=true -O IndieFlower-Regular.ttf"
   ]
  },
  {
   "cell_type": "code",
   "execution_count": 20,
   "metadata": {},
   "outputs": [
    {
     "name": "stdout",
     "output_type": "stream",
     "text": [
      "Collecting patool\n",
      "  Downloading patool-1.12-py2.py3-none-any.whl (77 kB)\n",
      "\u001b[K     |████████████████████████████████| 77 kB 3.5 MB/s eta 0:00:011\n",
      "\u001b[?25hInstalling collected packages: patool\n",
      "Successfully installed patool-1.12\n"
     ]
    }
   ],
   "source": [
    "!pip install patool"
   ]
  },
  {
   "cell_type": "code",
   "execution_count": 21,
   "metadata": {},
   "outputs": [],
   "source": [
    "import patoolib"
   ]
  },
  {
   "cell_type": "code",
   "execution_count": 25,
   "metadata": {},
   "outputs": [
    {
     "name": "stdout",
     "output_type": "stream",
     "text": [
      "patool: Extracting ./fonts/pizza-is-my-favorite.zip ...\n",
      "patool: ... ./fonts/pizza-is-my-favorite.zip extracted to `./fonts/'.\n"
     ]
    },
    {
     "data": {
      "text/plain": [
       "'./fonts/'"
      ]
     },
     "execution_count": 25,
     "metadata": {},
     "output_type": "execute_result"
    }
   ],
   "source": [
    "patoolib.extract_archive('./fonts/pizza-is-my-favorite.zip',outdir='./fonts/')"
   ]
  },
  {
   "cell_type": "code",
   "execution_count": 29,
   "metadata": {},
   "outputs": [
    {
     "name": "stdout",
     "output_type": "stream",
     "text": [
      "patool: Extracting ./fonts/acki-preschool.zip ...\n",
      "patool: ... ./fonts/acki-preschool.zip extracted to `./fonts/'.\n",
      "patool: Extracting ./fonts/bpchildlefty.zip ...\n",
      "patool: ... ./fonts/bpchildlefty.zip extracted to `./fonts/'.\n",
      "patool: Extracting ./fonts/schoolbell.zip ...\n",
      "patool: ... ./fonts/schoolbell.zip extracted to `./fonts/'.\n",
      "patool: Extracting ./fonts/tommys-first-alphabet.zip ...\n",
      "patool: ... ./fonts/tommys-first-alphabet.zip extracted to `./fonts/'.\n",
      "patool: Extracting ./fonts/acki-preschool.zip ...\n",
      "patool: ... ./fonts/acki-preschool.zip extracted to `./fonts/'.\n",
      "patool: Extracting ./fonts/two-turtle-doves.zip ...\n",
      "patool: ... ./fonts/two-turtle-doves.zip extracted to `./fonts/'.\n"
     ]
    },
    {
     "data": {
      "text/plain": [
       "'./fonts/'"
      ]
     },
     "execution_count": 29,
     "metadata": {},
     "output_type": "execute_result"
    }
   ],
   "source": [
    "patoolib.extract_archive('./fonts/acki-preschool.zip',outdir='./fonts/')\n",
    "patoolib.extract_archive('./fonts/bpchildlefty.zip',outdir='./fonts/')\n",
    "patoolib.extract_archive('./fonts/schoolbell.zip',outdir='./fonts/')\n",
    "patoolib.extract_archive('./fonts/tommys-first-alphabet.zip',outdir='./fonts/')\n",
    "patoolib.extract_archive('./fonts/acki-preschool.zip',outdir='./fonts/')\n",
    "patoolib.extract_archive('./fonts/two-turtle-doves.zip',outdir='./fonts/')"
   ]
  },
  {
   "cell_type": "markdown",
   "metadata": {
    "id": "rehXFz_wI79q"
   },
   "source": [
    "## Write a Python script to take a string of text and render an image using a handwriting font\n",
    "\n"
   ]
  },
  {
   "cell_type": "markdown",
   "metadata": {
    "id": "5PlLJJuOI-0A"
   },
   "source": [
    "I googled for tutorials and it seems like there's a Python library called Pillow for working with images, including adding text to images with fonts.\n",
    "\n",
    "Based on some tutorials, here's a working example using the font we downloaded."
   ]
  },
  {
   "cell_type": "code",
   "execution_count": 3,
   "metadata": {},
   "outputs": [],
   "source": [
    "import PIL"
   ]
  },
  {
   "cell_type": "code",
   "execution_count": 4,
   "metadata": {
    "id": "ghBtxrWqEGwa"
   },
   "outputs": [],
   "source": [
    "# Based on https://code-maven.com/create-images-with-python-pil-pillow\n",
    "\n",
    "# Draw a simple image with one color\n",
    "\n",
    "from PIL import Image\n",
    " \n",
    "img = Image.new('RGB', (600, 300), color = 'lightgrey')"
   ]
  },
  {
   "cell_type": "code",
   "execution_count": 5,
   "metadata": {
    "colab": {
     "base_uri": "https://localhost:8080/",
     "height": 317
    },
    "id": "lOKGs_5PEIDm",
    "outputId": "ce3545e8-faee-40f8-a868-3bc60dba52f9"
   },
   "outputs": [
    {
     "data": {
      "image/png": "[encoded data removed]",
      "text/plain": [
       "<PIL.Image.Image image mode=RGB size=600x300 at 0x7FEA35DC9250>"
      ]
     },
     "execution_count": 5,
     "metadata": {},
     "output_type": "execute_result"
    }
   ],
   "source": [
    "img"
   ]
  },
  {
   "cell_type": "code",
   "execution_count": 6,
   "metadata": {
    "id": "qB0PIjR7Co_A"
   },
   "outputs": [],
   "source": [
    "# Based on https://www.haptik.ai/tech/putting-text-on-image-using-python/\n",
    "\n",
    "# import required classes\n",
    " \n",
    "from PIL import Image, ImageDraw, ImageFont\n",
    " \n",
    " \n",
    "# initialise the drawing context with\n",
    "# the image object as background\n",
    " \n",
    "draw = ImageDraw.Draw(img)\n",
    "\n",
    "\n",
    "# create font object with the font file and specify\n",
    "# desired size\n",
    "\n",
    "\n",
    "font = ImageFont.truetype('./fonts/kimberly-geswein_pizza-is-my-favorite/PizzaismyFAVORITE.ttf', size=45)\n",
    " \n",
    "# starting position of the message\n",
    " \n",
    "(x, y) = (50, 50)\n",
    "message = 'Happy Birthday!'\n",
    "color = 'rgb(0, 0, 0)' # black color\n",
    " \n",
    "# draw the message on the background\n",
    " \n",
    "draw.text((x, y), message, fill=color, font=font)"
   ]
  },
  {
   "cell_type": "code",
   "execution_count": 7,
   "metadata": {
    "colab": {
     "base_uri": "https://localhost:8080/",
     "height": 317
    },
    "id": "Zn9dcgPlJ2od",
    "outputId": "3f4fedfe-d0a8-44dc-a5d4-b756ffce419c"
   },
   "outputs": [
    {
     "data": {
      "image/png": "[encoded data removed]",
      "text/plain": [
       "<PIL.Image.Image image mode=RGB size=600x300 at 0x7FEA35DC9250>"
      ]
     },
     "execution_count": 7,
     "metadata": {},
     "output_type": "execute_result"
    }
   ],
   "source": [
    "img"
   ]
  },
  {
   "cell_type": "markdown",
   "metadata": {
    "id": "aVaixJsTMlRp"
   },
   "source": [
    "# Turning the above concept into a function that can create arbitrarily many samples"
   ]
  },
  {
   "cell_type": "code",
   "execution_count": 8,
   "metadata": {},
   "outputs": [],
   "source": [
    "import random"
   ]
  },
  {
   "cell_type": "code",
   "execution_count": 9,
   "metadata": {},
   "outputs": [],
   "source": [
    "import textwrap"
   ]
  },
  {
   "cell_type": "code",
   "execution_count": 10,
   "metadata": {},
   "outputs": [],
   "source": [
    "# TODO: Find more children's handwriting fonts to increase variety\n",
    "\n",
    "fonts = ['./fonts/kimberly-geswein_pizza-is-my-favorite/PizzaismyFAVORITE.ttf',\n",
    "        './fonts/AckiPreschool.ttf',\n",
    "        './fonts/BPchildLefty.ttf',\n",
    "        './fonts/doves.ttf',\n",
    "        './fonts/Schoolbell.ttf',\n",
    "        './fonts/tommys.ttf']"
   ]
  },
  {
   "cell_type": "code",
   "execution_count": 100,
   "metadata": {},
   "outputs": [],
   "source": [
    "# A function that automatically generates n handwritten story samples\n",
    "\n",
    "def create_synth_samples(n):\n",
    "\n",
    "    for i in range(n):\n",
    "        # Randomly choose a story from scraped stories\n",
    "        # Stories are scraped using this script: \n",
    "        # https://github.com/EEdwardsA/data-mining-script-for-ao3\n",
    "        \n",
    "        s = random.randint(0, 200)\n",
    "        story = open(f'./stories/story{s}.txt')\n",
    "        \n",
    "        # Turns story into string object\n",
    "        text = story.read()\n",
    "        \n",
    "        # Randomly assign width\n",
    "        width = random.randint(500, 900)\n",
    "        width_scaler = random.randint(16,20)\n",
    "        font_size = int((width)/width_scaler)\n",
    "        height = int((len(text)*font_size)/25)\n",
    "        \n",
    "        # Possible colors of \"paper\"\n",
    "        colors = ['lightgrey', 'grey', 'yellow', 'white']\n",
    "        \n",
    "        # \"Pencil\" darkness\n",
    "        c = random.randint(0, 96)\n",
    "                 \n",
    "        img = Image.new('RGB', (width, height), color = random.choice(colors))\n",
    "        draw = ImageDraw.Draw(img)\n",
    "\n",
    "        # Create font object with a font file and specify\n",
    "        # desired size\n",
    "\n",
    "        font = ImageFont.truetype(random.choice(fonts), size=font_size)\n",
    "\n",
    "        # Starting position of story is fixed\n",
    "\n",
    "        (x, y) = (50, 50) \n",
    "        \n",
    "        color = f'rgb({c}, {c}, {c})' # Grayscale colors to imitate pencil\n",
    "\n",
    "        # Draw the message on the background\n",
    "\n",
    "        draw.text((x, y), \"\\n\".join(textwrap.wrap(text, \n",
    "                                                  width=int(width/width_scaler)) \n",
    "                                                #width=int(6*width/font_size)\n",
    "                                                 ), \n",
    "                                    fill=color, font=font)\n",
    "        \n",
    "        img.save(f'./synth_images/img{i}','jpeg')\n"
   ]
  },
  {
   "cell_type": "code",
   "execution_count": 101,
   "metadata": {},
   "outputs": [],
   "source": [
    "create_synth_samples(5)"
   ]
  },
  {
   "cell_type": "code",
   "execution_count": null,
   "metadata": {},
   "outputs": [],
   "source": []
  }
 ],
 "metadata": {
  "colab": {
   "collapsed_sections": [],
   "name": "Create image from text with Python",
   "provenance": []
  },
  "kernelspec": {
   "display_name": "Python 3",
   "language": "python",
   "name": "python3"
  },
  "language_info": {
   "codemirror_mode": {
    "name": "ipython",
    "version": 3
   },
   "file_extension": ".py",
   "mimetype": "text/x-python",
   "name": "python",
   "nbconvert_exporter": "python",
   "pygments_lexer": "ipython3",
   "version": "3.8.5"
  }
 },
 "nbformat": 4,
 "nbformat_minor": 1
}
