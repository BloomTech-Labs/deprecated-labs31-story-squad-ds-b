{
 "cells": [
  {
   "cell_type": "markdown",
   "metadata": {
    "id": "GfJCh0LoMKOF"
   },
   "source": [
    "# Generate synthetic training data"
   ]
  },
  {
   "cell_type": "markdown",
   "metadata": {
    "id": "prfYYl72Fdi6"
   },
   "source": [
    "## What is this notebook for?\n",
    "\n",
    "The purpose of this notebook is to compensate for the small number of authentic data samples that we have access to. The handwriting and story analysis model needs more training data to gain more accuracy. This notebook allows the data science team to generate synthetic training data in the absence of authentic samples.\n",
    "\n",
    "There are only 200 authentic samples. Ask Story Squad stakeholders to email you the zip file if you can't find it.\n",
    "\n",
    "You should note that real data will represent more variation than you will see in the authentic sample data set because the sample data was all collected in the same way, written on the same kind of paper, photographed on the same device, etc.\n",
    "\n",
    "Accordingly, many of the synthetic samples we will generate with this notebook will show more variety than the current data set of authentic data. However, you should continue to use the genuine samples as a guidepost."
   ]
  },
  {
   "cell_type": "markdown",
   "metadata": {
    "id": "1Qtdvu4iF3WN"
   },
   "source": [
    "### Example sample generation\n",
    "\n",
    "First, we will show a single example, generated based on instructions at this tutorial: https://www.haptik.ai/tech/putting-text-on-image-using-python/\n",
    "\n",
    "You will probably want to play around with this sample to better understand a sample image's parameters before you later go on to tweak the sample generating function (which randomizes across a large space of possible parameters)."
   ]
  },
  {
   "cell_type": "markdown",
   "metadata": {
    "id": "rehXFz_wI79q"
   },
   "source": [
    "## This Python script takes a string of text and renders 1 image using a handwriting font"
   ]
  },
  {
   "cell_type": "markdown",
   "metadata": {
    "id": "5PlLJJuOI-0A"
   },
   "source": [
    "The primary Python library we are working with, for generating images, is called Pillow, which is itself a fork of PIL."
   ]
  },
  {
   "cell_type": "code",
   "execution_count": 10,
   "metadata": {},
   "outputs": [],
   "source": [
    "# Import required classes\n",
    "from PIL import Image, ImageDraw, ImageFont\n",
    "import textwrap\n",
    "import random"
   ]
  },
  {
   "cell_type": "code",
   "execution_count": 11,
   "metadata": {
    "id": "ghBtxrWqEGwa"
   },
   "outputs": [],
   "source": [
    "# Based on https://www.pythonforbeginners.com/gui/how-to-use-pillow\n",
    "#  and\n",
    "# https://code-maven.com/create-images-with-python-pil-pillow\n",
    "\n",
    "# Draw a simple image with one color\n",
    "\n",
    "c=150\n",
    " \n",
    "img = Image.new('RGB', (600, 300), color =(c,c,c))"
   ]
  },
  {
   "cell_type": "code",
   "execution_count": 12,
   "metadata": {
    "colab": {
     "base_uri": "https://localhost:8080/",
     "height": 317
    },
    "id": "lOKGs_5PEIDm",
    "outputId": "ce3545e8-faee-40f8-a868-3bc60dba52f9"
   },
   "outputs": [
    {
     "data": {
      "image/png": "[encoded data removed]",
      "text/plain": [
       "<PIL.Image.Image image mode=RGB size=600x300 at 0x10E71C6D0>"
      ]
     },
     "execution_count": 12,
     "metadata": {},
     "output_type": "execute_result"
    }
   ],
   "source": [
    "img"
   ]
  },
  {
   "cell_type": "code",
   "execution_count": 13,
   "metadata": {
    "id": "qB0PIjR7Co_A"
   },
   "outputs": [],
   "source": [
    "# Based on https://www.haptik.ai/tech/putting-text-on-image-using-python/\n",
    " \n",
    "# Initialise the drawing context with\n",
    "# the image object as background\n",
    " \n",
    "draw = ImageDraw.Draw(img)\n",
    "\n",
    "# Create font object with the font file and specify\n",
    "# desired size\n",
    "\n",
    "font = ImageFont.truetype('./fonts/kimberly-geswein_pizza-is-my-favorite/PizzaismyFAVORITE.ttf', size=45)\n",
    " \n",
    "# Starting position of the message\n",
    " \n",
    "(x, y) = (50, 50)\n",
    "\n",
    "# String and color of message\n",
    "\n",
    "message = 'Happy Birthday!!'\n",
    "color = 'rgb(0, 0, 0)' # black color\n",
    " \n",
    "# draw the message on the background\n",
    " \n",
    "draw.text((x, y), message, fill=color, font=font)\n",
    "\n",
    "# Add lines to mimic lines on paper\n",
    "\n",
    "draw.line((0,50, 600,50), fill='black')\n",
    "draw.line((0,140, 600,140), fill='black')"
   ]
  },
  {
   "cell_type": "code",
   "execution_count": 14,
   "metadata": {
    "colab": {
     "base_uri": "https://localhost:8080/",
     "height": 317
    },
    "id": "Zn9dcgPlJ2od",
    "outputId": "3f4fedfe-d0a8-44dc-a5d4-b756ffce419c",
    "scrolled": true
   },
   "outputs": [
    {
     "data": {
      "image/png": "[encoded data removed]",
      "text/plain": [
       "<PIL.Image.Image image mode=RGB size=600x300 at 0x10E71C6D0>"
      ]
     },
     "execution_count": 14,
     "metadata": {},
     "output_type": "execute_result"
    }
   ],
   "source": [
    "img"
   ]
  },
  {
   "cell_type": "markdown",
   "metadata": {
    "id": "aVaixJsTMlRp"
   },
   "source": [
    "# Turning the above concept into a function that can create arbitrarily many samples"
   ]
  },
  {
   "cell_type": "code",
   "execution_count": 15,
   "metadata": {},
   "outputs": [],
   "source": [
    "# Handwriting fonts sourced from \n",
    "# https://www.1001fonts.com/children+handwriting-fonts.html?page=1\n",
    "#    and\n",
    "# https://www.fontspace.com/category/children,handwriting   \n",
    "\n",
    "fonts = ['./fonts/kimberly-geswein_pizza-is-my-favorite/PizzaismyFAVORITE.ttf',\n",
    "        './fonts/AckiPreschool.ttf',\n",
    "        './fonts/BPchildLefty.ttf',\n",
    "        './fonts/doves.ttf',\n",
    "        './fonts/Schoolbell.ttf',\n",
    "        './fonts/tommys.ttf',\n",
    "        './fonts/messy-handwritten/MessyHandwritten-Regular.ttf',\n",
    "        './fonts/jackblack/Jackblackdemo.ttf',\n",
    "        './fonts/CakorAyamFont/CakorAyam.ttf',\n",
    "        './fonts/kimberly-geswein_kate-the-great/KatetheGreat.ttf',\n",
    "        './fonts/DamiasFont/Damias_Hand.ttf',\n",
    "        './fonts/children/Children.ttf',\n",
    "        './fonts/KindergardenFont/Kindergarden.ttf',\n",
    "        './fonts/5yearsoldfont/5yearsoldfont.ttf',\n",
    "        './fonts/coming-soon/ComingSoon.ttf',\n",
    "        './fonts/Kbmisosoup-GnOa.ttf',\n",
    "        './fonts/Baybay-2Gqe.ttf',\n",
    "        './fonts/GraniteletterRegular-ERXj.ttf',\n",
    "        './fonts/MilanaRoseRegular-XpJG.ttf',\n",
    "        './fonts/RunawayLies-ngZP.ttf',\n",
    "        './fonts/Skinny-VnD0.ttf',\n",
    "        './fonts/MyFirstFontEver-lYVy.ttf',\n",
    "        './fonts/Kbwhenpigsfly-5x1z.ttf',\n",
    "        './fonts/MtfGavin-7XAD.ttf',\n",
    "        './fonts/MyLeftFont-71vR.ttf',\n",
    "        './fonts/Kbloveitdown-ragO.ttf',\n",
    "        './fonts/Kbmisosoup-GnOa.ttf',\n",
    "        './fonts/Tonisianwilliams-3xa6.ttf',\n",
    "        './fonts/SandboxMelodrama-8ye0.ttf',\n",
    "        './fonts/Kbpinklipgloss-jaEv.ttf',\n",
    "        './fonts/Kbanditslipsmymind-YGzj.ttf',\n",
    "        './fonts/Rayando-xj18.ttf',\n",
    "        './fonts/Kbkinderwrite-D3OE.ttf',\n",
    "        './fonts/ChildsPlay-0aG9.ttf',\n",
    "        './fonts/Iamthecrayonmaster-MyqB.ttf',\n",
    "        './fonts/Kidsfirstprintfont-6jxx.ttf',\n",
    "        './fonts/Kbgobbleday-eyZe.ttf',\n",
    "        './fonts/syifana-font/Syifana-K70Ky.ttf',\n",
    "        './fonts/pencilpete-font/PencilpeteFont-2eE3.ttf',\n",
    "        './fonts/krayola-font/KrayolaV1Regular-1Go9e.ttf',\n",
    "        './fonts/hey-kiddo-font/Heykiddodemo-8Mao0.ttf',\n",
    "        './fonts/homework-font/HomeworkNormal-yYd2.ttf',\n",
    "        './fonts/you-are-a-toy-font/YouAreAToy-8KKn.ttf',\n",
    "        './fonts/itty-bitty-notebook-font/IttyBittyNotebook-2X7K.ttf',\n",
    "        './fonts/mikies-christmas-list-font/MikiesChristmasList-JZJM.ttf',\n",
    "        './fonts/sensible-schooling-font/SensibleSchooling-oYjA.ttf',\n",
    "        './fonts/dk-crayonista-font/Dkcrayonista-rmVO.ttf',\n",
    "        './fonts/vlaanderen-font/Vlaanderen-vLqM.ttf',\n",
    "        './fonts/first-grader-font/FirstGrader-jjMj.ttf',\n",
    "        './fonts/six-yr-old-rushed-font/SixYrOldRushed-5Bjv.ttf',\n",
    "        './fonts/six-yr-old-rushed-font/LittleSistersWriting-z7jL.ttf',\n",
    "        './fonts/crappy-dan-font/Crappydan-E4Kr.ttf',\n",
    "        './fonts/domo-is-my-favorite-font/KgDomoIsMyFavorite-lpW0.ttf',\n",
    "        './fonts/artooh-font/Artooh-qm72.ttf']"
   ]
  },
  {
   "cell_type": "code",
   "execution_count": 24,
   "metadata": {},
   "outputs": [],
   "source": [
    "# Possible shades of \"paper\"\n",
    "# (More or less, all the lighter colors on this list here:\n",
    "# https://en.wikipedia.org/wiki/X11_color_names)\n",
    "\n",
    "bg_colors = ['#D3D3D3', '#BEBEBE', '#FFFF00', '#FFFFFF',\n",
    "             '#F0F8FF', '#FAEBD7', '#F0FFFF', '#F5F5DC',\n",
    "             '#FFE4C4', '#F7E7CE', '#FFF8DC', '#FEFEFA',\n",
    "             '#F8F8FF', '#DCDCDC', '#F0FFF0', '#FFFFF0', \n",
    "             '#F0E68C', '#E6E6FA', '#FFF0F5', '#FFFACD',\n",
    "             '#E0FFFF', '#FAFAD2', '#B0C4DE', '#FFFFE0',\n",
    "             '#FAF0E6', '#F5FFFA', '#FFE4E1', '#FFE4B5', \n",
    "             '#FFDEAD', '#F0EAD6', '#EEE8AA', '#FFEFD5', \n",
    "             '#FFDAB9', '#B0E0E6', '#FFF5EE', '#FFFAFA', \n",
    "             '#C0C0C0', '#D8BFD8', '#F5DEB3', '#F3E5AB', \n",
    "             '#EDEAE0']"
   ]
  },
  {
   "cell_type": "markdown",
   "metadata": {},
   "source": [
    "## Bugs that still need to be fixed in the below function:\n",
    "\n",
    "### (run \"create_synth_samples()\" code cell to generate examples you can look at)\n",
    "\n",
    "- Writing sometimes runs off the right or bottom of the page\n",
    "- Line spacing matches height of font much less frequently than it should\n",
    "    \n",
    "## Ideas to experiment with/iterate on in future versions to better mimic real data:\n",
    "\n",
    "- Handwriting variation; no 2 letters look exactly the same. Two ideas for this:\n",
    "\t- Some fonts have more than one symbol per character. This can be activated by passing in \"features='aalt'\" as an argument. Libraqm is the package you need to use this, and it is compatible with Pillow (but not PIL). Supposedly it's built in to versions of Pillow starting with 5.0; you should figure out how to use that library.\n",
    "\t- Refactor the function so that it uses multiple fonts per string (variable name 'story'). You'll probably want a for loop for this.\n",
    "\n",
    "\n",
    "- Lighting variation across pages, e.g. dark in one corner with a gradient of light across the rest of the page\n",
    "- Eraser marks that make the background of one word/phrase/character much darker than the overall shade of the sheet of paper\n",
    "- Variation in darkness of \"pencil\" (text color) across the page\n",
    "- Variation in thickness of text (e.g. as if a pencil is getting blunter as the child writes)\n",
    "- The \"starting point\" (i.e. where on the page a person begins writing) will not be uniform in real data\n",
    "- Line spacing, for example, writing that skips every other line (you can see examples of this in authentic samples)\n",
    "- Tilted pages (rotate image a few degrees left or right)\n",
    "- Skewed pages. It will help to look at the authentic samples to see what I mean by this. In many samples, the camera is not perfectly parallel to the page, so the left edge of the paper is longer than the right edge or vice versa.\n",
    "- (Once you have fixed line spacing issue) Use \"offset\" variable to randomize how close to the \"lined paper\" the words are. Offset is currently set to zero.\n",
    "    - The intuition here is that some people write sentences such that the bottom of the text perfectly brushes up with the line below, others write sentences more vertically centered between the above and below lines, etc."
   ]
  },
  {
   "cell_type": "markdown",
   "metadata": {
    "tags": []
   },
   "source": [
    "## Separate from the authenticity of the synthetic images from a straightforward 'appearance' perspective is the matter of how well the text samples themselves match the writing abilities of 3rd-5th graders \n",
    "\n",
    "If you can't find an open-source repository of short stories written by children in that age group (probably the best option), I have an idea for a source of text that cleaves closer to the general idea than what is currently being used.\n",
    "\n",
    "### What is the current source of text?\n",
    "\n",
    "I modified a web scraper, which you can find here: https://github.com/EEdwardsA/data-mining-script-for-ao3. Clone this repo and run it on your own machine to generate txt files for the below function to use. If a data science team member in Labs32 would like me to explain this code to them, they should feel free to reach me via my GitHub profile's contact info.\n",
    "\n",
    "Since the stories for Story Squad will all be technically \"fanfiction\", it made sense to scrape stories from fanfiction archives (in the absence of stories written by children).\n",
    "\n",
    "None of these stories have the age or grade level of the author attached, and indeed, most of these stories were probably written by adults, or at least minors over the age of 13, since that is the minimum account creation age. However, I attempted to approximate more childlike characteristics by \n",
    "- Sorting the stories by \"kudos\" (a measure of popularity) and scraping only the least popular stories (the last ~20 pages of results)\n",
    "\t- Downside: popularity is also a proxy for recency, so some well-written stories also got scraped\n",
    "- Restricting stories to 100-700 words in length\n",
    "- Restricting stories to \"General Audiences\" maturity level only\n",
    "- Restricting stories to \"No Archive Warnings Apply\"\n",
    "- Restricting stories to \"Gen\" i.e. no content focused on romantic relationships\n",
    "\n",
    "There are large selection effects for which fanfiction archive a writer publishes their stories in, several of which correlate with age. Archive of Our Own, the current source of scraped data, probably has the overall oldest/most mature userbase. Alternate archives you could scrape, which have younger and more amateur user bases, are fanfiction.net and Wattpad.\n",
    "\n",
    "Here is a web scraper script for fanfiction.net that you can modify: https://github.com/smilli/fanfiction\n",
    "\n",
    "I have not found a web scraper for Wattpad.\n",
    "\n",
    "### One extra thing you or future DS teams after you will need to consider\n",
    "\n",
    "When images of handwritten stories are submitted via Story Squad, some of them will not fit on a single image; some will be spread across multiple images/pages. Front-end processing should vertically concatenate the images of any split stories into one single image if they are going to be fed to a model that is trained on synthetic data that has a 1:1 story to image relationship."
   ]
  },
  {
   "cell_type": "code",
   "execution_count": 25,
   "metadata": {},
   "outputs": [],
   "source": [
    "def create_synth_samples(n):\n",
    "    \"\"\"A function that automatically generates n handwritten story samples\"\"\"\n",
    "    for i in range(n):\n",
    "        \n",
    "        # Randomly choose a story from scraped stories\n",
    "        # Stories are scraped using this script: \n",
    "        # https://github.com/EEdwardsA/data-mining-script-for-ao3\n",
    "        \n",
    "        s = random.randint(0, 200) # Change 2nd number to number of\n",
    "                                   # stories you scraped minus 1\n",
    "        story = open(f'./stories/story{s}.txt')\n",
    "        \n",
    "        # Turn story into string object\n",
    "        \n",
    "        text = story.read()\n",
    "        \n",
    "        # Randomly assign width of image from range of pixels. \n",
    "        # Font size of image is a function of width and width_scaler\n",
    "        # Height of image is a function of font size and length of story\n",
    "        \n",
    "        width = random.randint(500, 900)\n",
    "        width_scaler = random.randint(16,20)\n",
    "        font_size = int((width)/width_scaler)\n",
    "        height = int((len(text)*font_size)/25)\n",
    "        \n",
    "        # \"Pencil\" darkness. (c, c, c) will always generate a shade of gray.\n",
    "        # 96 is roughly the lightest you want to go to maintain readability.\n",
    "        \n",
    "        c = random.randint(0, 96)\n",
    "        \n",
    "        # Create font object with a font file and specify desired size\n",
    "\n",
    "        font = ImageFont.truetype(random.choice(fonts), size=font_size)\n",
    "        font_color = f'rgb({c}, {c}, {c})' # Grayscale colors to imitate pencil\n",
    "        \n",
    "        # Instantiate image or \"sheet of paper\"\n",
    "                 \n",
    "        img = Image.new('RGB', (width, height), color = random.choice(bg_colors))\n",
    "        draw = ImageDraw.Draw(img)\n",
    "\n",
    "        # Starting position of story is fixed\n",
    "\n",
    "        (x, y) = (50, 50) \n",
    "\n",
    "        # Draw the \"handwriting\" on the background\n",
    "\n",
    "        draw.text((x, y), \"\\n\".join(textwrap.wrap(text, \n",
    "                                                  width=int(width/width_scaler)) \n",
    "                                                 ), \n",
    "                                    fill=font_color, font=font)\n",
    "        \n",
    "        # offset = random.randint(-5,5) # Randomize where text is relative to line (see explanation in markdown above)\n",
    "        offset = 0\n",
    "        \n",
    "        # Draw horizontal blue or black lines on ~half of samples (since some paper will be lined and some unlined)\n",
    "        line_colors = ['black', 'blue']\n",
    "        flip = random.randint(0,1)\n",
    "        if flip: # When debugging horizontal line placement, I recommend commenting out this if statement\n",
    "                 # so that lines appear on every image\n",
    "            for j in range(50+font_size+offset, height, int(height/(font_size+offset))):\n",
    "                draw.line((0, j, width, j), fill=random.choice(line_colors))\n",
    "        \n",
    "        img.save(f'./synth_images/img{i}','jpeg')\n"
   ]
  },
  {
   "cell_type": "code",
   "execution_count": 27,
   "metadata": {},
   "outputs": [],
   "source": [
    "create_synth_samples(100)"
   ]
  },
  {
   "cell_type": "code",
   "execution_count": null,
   "metadata": {},
   "outputs": [],
   "source": [
    "# I recommend leaving the above code basically intact, fiddling at the edges of it, \n",
    "# until you have a solid understanding of the function, and using this cell for more drastic changes.\n",
    "\n",
    "# This code block shows you where to pass in the features='aalt' argument to activate\n",
    "# fonts with multiple glyphs per character, once you have libraqm working.\n",
    "\n",
    "def create_synth_samples(n):\n",
    "    \"\"\"A function that automatically generates n handwritten story samples\"\"\"\n",
    "    for i in range(n):\n",
    "        \n",
    "        # Randomly choose a story from scraped stories\n",
    "        # Stories are scraped using this script: \n",
    "        # https://github.com/EEdwardsA/data-mining-script-for-ao3\n",
    "        \n",
    "        s = random.randint(0, 200) # Change 2nd number to number of\n",
    "                                   # stories you scraped minus 1\n",
    "        story = open(f'./stories/story{s}.txt')\n",
    "        \n",
    "        # Turn story into string object\n",
    "        \n",
    "        text = story.read()\n",
    "        \n",
    "        # Randomly assign width of image from range of pixels. \n",
    "        # Font size of image is a function of width and width_scaler\n",
    "        # Height of image is a function of font size and length of story\n",
    "        \n",
    "        width = random.randint(500, 900)\n",
    "        width_scaler = random.randint(16,20)\n",
    "        font_size = int((width)/width_scaler)\n",
    "        height = int((len(text)*font_size)/25)\n",
    "        \n",
    "        # \"Pencil\" darkness. (c, c, c) will always generate a shade of gray.\n",
    "        # 96 is roughly the lightest you want to go to maintain readability.\n",
    "        \n",
    "        c = random.randint(0, 96)\n",
    "        \n",
    "        # Create font object with a font file and specify desired size\n",
    "\n",
    "        font = ImageFont.truetype(random.choice(fonts), size=font_size)\n",
    "        font_color = f'rgb({c}, {c}, {c})' # Grayscale colors to imitate pencil\n",
    "        \n",
    "        # Instantiate image or \"sheet of paper\"\n",
    "                 \n",
    "        img = Image.new('RGB', (width, height), color = random.choice(bg_colors))\n",
    "        draw = ImageDraw.Draw(img)\n",
    "\n",
    "        # Starting position of story is fixed\n",
    "\n",
    "        (x, y) = (50, 50) \n",
    "\n",
    "        # Draw the \"handwriting\" on the background\n",
    "\n",
    "        draw.text((x, y), \"\\n\".join(textwrap.wrap(text, \n",
    "                                                  width=int(width/width_scaler)) \n",
    "                                                 ), \n",
    "                                    fill=font_color, font=font, features='aalt') #features = 'aalt' should let you use\n",
    "                                                                            # fonts that have multiple symbols per character,\n",
    "                                                                            # but you will need to get libraqm working.\n",
    "                                                                            # It's supposed to come packaged with Pillow 5.0+)\n",
    "        \n",
    "        # offset = random.randint(-5,5) # Randomize where text is relative to line (see explanation in markdown above)\n",
    "        offset = 0\n",
    "        \n",
    "        # Draw horizontal blue or black lines on ~half of samples (since some paper will be lined and some unlined)\n",
    "        line_colors = ['black', 'blue']\n",
    "        flip = random.randint(0,1)\n",
    "        if flip: # When debugging horizontal line placement, I recommend commenting out this if statement\n",
    "                 # so that lines appear on every image\n",
    "            for j in range(50+font_size+offset, height, int(height/(font_size+offset))):\n",
    "                draw.line((0, j, width, j), fill=random.choice(line_colors))\n",
    "        \n",
    "        img.save(f'./synth_images/img{i}','jpeg')"
   ]
  }
 ],
 "metadata": {
  "colab": {
   "collapsed_sections": [],
   "name": "Create image from text with Python",
   "provenance": []
  },
  "kernelspec": {
   "display_name": "synth_data",
   "language": "python",
   "name": "synth_data"
  },
  "language_info": {
   "codemirror_mode": {
    "name": "ipython",
    "version": 3
   },
   "file_extension": ".py",
   "mimetype": "text/x-python",
   "name": "python",
   "nbconvert_exporter": "python",
   "pygments_lexer": "ipython3",
   "version": "3.8.6"
  }
 },
 "nbformat": 4,
 "nbformat_minor": 4
}
