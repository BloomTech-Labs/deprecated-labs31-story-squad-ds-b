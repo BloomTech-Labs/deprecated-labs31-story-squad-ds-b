{
  "nbformat": 4,
  "nbformat_minor": 0,
  "metadata": {
    "colab": {
      "name": "SS_image_scraper_exploratory_notebook_RJProctor.ipynb",
      "provenance": [],
      "collapsed_sections": []
    },
    "kernelspec": {
      "name": "python3",
      "display_name": "Python 3"
    }
  },
  "cells": [
    {
      "cell_type": "markdown",
      "metadata": {
        "id": "qfe2v5TbSdEu"
      },
      "source": [
        "Exploratory notebook Webscraping drawings created by Upper Elementary age kiddos with literary context for Story Squad database\r\n",
        "\r\n",
        "Using Beautiful Soup to access labled images on Artsonia website\r\n",
        "  *  need to scrape images\r\n",
        "  *  need to scrape labels identifying grade levels"
      ]
    },
    {
      "cell_type": "code",
      "metadata": {
        "colab": {
          "base_uri": "https://localhost:8080/"
        },
        "id": "pyXfpofYSGKT",
        "outputId": "1f31817b-8733-4c75-b7ff-752ae0fe9389"
      },
      "source": [
        "!pip install beautifulsoup4"
      ],
      "execution_count": 2,
      "outputs": [
        {
          "output_type": "stream",
          "text": [
            "Requirement already satisfied: beautifulsoup4 in /usr/local/lib/python3.6/dist-packages (4.6.3)\n"
          ],
          "name": "stdout"
        }
      ]
    },
    {
      "cell_type": "code",
      "metadata": {
        "colab": {
          "base_uri": "https://localhost:8080/"
        },
        "id": "iU2jp_nSS-Nv",
        "outputId": "0069d10d-9f14-4881-c1f8-fcb0d183883e"
      },
      "source": [
        "# parser(s)\r\n",
        "!pip install lxml \r\n",
        "  # prefered for use with bs4\r\n",
        "!pip install html5lib \r\n",
        "  # popular parser that will also work with bs4"
      ],
      "execution_count": 13,
      "outputs": [
        {
          "output_type": "stream",
          "text": [
            "Requirement already satisfied: lxml in /usr/local/lib/python3.6/dist-packages (4.2.6)\n",
            "Requirement already satisfied: html5lib in /usr/local/lib/python3.6/dist-packages (1.0.1)\n",
            "Requirement already satisfied: six>=1.9 in /usr/local/lib/python3.6/dist-packages (from html5lib) (1.15.0)\n",
            "Requirement already satisfied: webencodings in /usr/local/lib/python3.6/dist-packages (from html5lib) (0.5.1)\n"
          ],
          "name": "stdout"
        }
      ]
    },
    {
      "cell_type": "code",
      "metadata": {
        "colab": {
          "base_uri": "https://localhost:8080/"
        },
        "id": "YAM1GOlnTAyZ",
        "outputId": "e1bcc1c7-343d-4fc7-e66c-e5d33acd8b28"
      },
      "source": [
        "!pip install requests"
      ],
      "execution_count": 4,
      "outputs": [
        {
          "output_type": "stream",
          "text": [
            "Requirement already satisfied: requests in /usr/local/lib/python3.6/dist-packages (2.23.0)\n",
            "Requirement already satisfied: chardet<4,>=3.0.2 in /usr/local/lib/python3.6/dist-packages (from requests) (3.0.4)\n",
            "Requirement already satisfied: certifi>=2017.4.17 in /usr/local/lib/python3.6/dist-packages (from requests) (2020.12.5)\n",
            "Requirement already satisfied: idna<3,>=2.5 in /usr/local/lib/python3.6/dist-packages (from requests) (2.10)\n",
            "Requirement already satisfied: urllib3!=1.25.0,!=1.25.1,<1.26,>=1.21.1 in /usr/local/lib/python3.6/dist-packages (from requests) (1.24.3)\n"
          ],
          "name": "stdout"
        }
      ]
    },
    {
      "cell_type": "code",
      "metadata": {
        "id": "Bg2VHnbvbSTi"
      },
      "source": [
        "from bs4 import BeautifulSoup as bs\r\n",
        "import requests\r\n",
        "import csv\r\n"
      ],
      "execution_count": 1,
      "outputs": []
    },
    {
      "cell_type": "markdown",
      "metadata": {
        "id": "PfsINlO7bhwZ"
      },
      "source": [
        "Sourcing images from Artsonia.com, upper elementary school drawings because they are already in COPPA compliance with any student created visible images having [waivers on file](https://www.artsonia.com/teachers/members/parents/reports/setup.asp) from parents/guardians and reviewed by teachers before posting.  \r\n",
        "\r\n",
        "The images hosted on and scraped from the Artsonia website represent the demographics and broad spectrum of technical ability of our target user as well as meet the COPPA compliance requirements of child work products.  \r\n",
        "\r\n",
        "As long as these images are used only to train the model and we do not scrape too many at one time, overburdening the Artsonia website with requests, we are operating within their documented, public facing [Artsonia Acceptable Use and Conduct Clause 12.7, 10, & 11](https://www.artsonia.com/terms/) and [Robots.txt](https://www.artsonia.com/robots.txt) use case for crawlers.  None of the illustrations will be published, displayed, or sold for profit.  The illustrations will be used strickly to train/retrain a machine learning model for an educational tool and provide a base for synthetic data generation.  \r\n",
        "\r\n"
      ]
    },
    {
      "cell_type": "code",
      "metadata": {
        "id": "EQLqZsNubSD4"
      },
      "source": [
        "# load webpage\r\n",
        "#r = requests.get('https://www.artsonia.com/search/?q=grade+3%2C+grade+4%2C&gb=128')\r\n",
        "r = requests.get('https://www.artsonia.com/museum/gallery.asp?project=1876360')\r\n",
        "  # may need to address login\r\n",
        "\r\n",
        "# convert to a beautiful soup object\r\n",
        "webpage = bs(r.content, 'html5lib')\r\n",
        "\r\n",
        "# print out HTML\r\n",
        "contents = webpage.prettify()\r\n",
        "\r\n",
        "print(contents)\r\n"
      ],
      "execution_count": null,
      "outputs": []
    },
    {
      "cell_type": "markdown",
      "metadata": {
        "id": "JqJZAsXEOaqN"
      },
      "source": [
        "grab an image using url...grab grade tags for grade 3, grade 4, grade 5"
      ]
    },
    {
      "cell_type": "markdown",
      "metadata": {
        "id": "ZwNy1k3qaa_R"
      },
      "source": [
        "grabbing grade level tags:\r\n",
        "\r\n",
        "--found in div class grid item\r\n",
        "\r\n",
        "\r\n",
        "*   table\r\n",
        "*   tbody\r\n",
        "*   tr\r\n",
        "*   td\r\n",
        "\r\n",
        "use a.get_text() to grab\r\n",
        "\r\n",
        "Data cleanning --> \r\n",
        "replace (['(',')'], [' ', ' '])\r\n",
        "and \r\n",
        "(' ', strip=True)\r\n",
        "\r\n",
        "a.get_text(' ', strip=True).replace (['(',')'], [' ', ' '])\r\n",
        "\r\n"
      ]
    },
    {
      "cell_type": "code",
      "metadata": {
        "id": "epNer9k8P7IL"
      },
      "source": [
        "# select information contained in the page table\r\n",
        "table = webpage.findAll(lambda tag: tag.name=='table') \r\n",
        "\r\n",
        "\r\n",
        "# get a list of table rows from page table\r\n",
        "#rows = table.find(lambda tag: tag.name=='tr')\r\n",
        "\r\n",
        "# rows = []\r\n",
        "# for \r\n",
        "\r\n",
        "\r\n",
        "#images = webpage.findAll(name='img')\r\n",
        "\r\n",
        "#images = webpage.find(name=\"img\", attrs={'class':'grid-item-art'})\r\n",
        "\r\n",
        "# select all elements with an a attribute inside div class grid item\r\n",
        "#artworks = [img for img in images if img['src']]\r\n",
        "#artworks = [img['src'] for img in images]\r\n",
        "\r\n",
        "\r\n",
        "# grab text label for grid item\r\n",
        "#grid_item_label = grid_item_info.get_text()\r\n",
        "\r\n",
        "#print(grid_item_info)\r\n",
        "print(len(rows))\r\n",
        "print(table)"
      ],
      "execution_count": null,
      "outputs": []
    },
    {
      "cell_type": "markdown",
      "metadata": {
        "id": "Qmqw8B_tg9L5"
      },
      "source": [
        "1. may need to grab grade level first to create dictionary \r\n",
        "2. work on grabbing a single image\r\n",
        "3. create function/loop to work with label grab"
      ]
    },
    {
      "cell_type": "markdown",
      "metadata": {
        "id": "TumSwomNrZr4"
      },
      "source": [
        "There are images hidden inside a table that can be seen, but accessed using Beautiful Soup alone.  To overcome this obstacle, I will use a python package that automates a web browser, Selenium.\r\n"
      ]
    },
    {
      "cell_type": "code",
      "metadata": {
        "colab": {
          "base_uri": "https://localhost:8080/"
        },
        "id": "IRjXXaxEbc9x",
        "outputId": "d1aede6d-2f61-40a0-e158-7713998eb783"
      },
      "source": [
        "!pip install selenium\r\n"
      ],
      "execution_count": 1,
      "outputs": [
        {
          "output_type": "stream",
          "text": [
            "Collecting selenium\n",
            "\u001b[?25l  Downloading https://files.pythonhosted.org/packages/80/d6/4294f0b4bce4de0abf13e17190289f9d0613b0a44e5dd6a7f5ca98459853/selenium-3.141.0-py2.py3-none-any.whl (904kB)\n",
            "\r\u001b[K     |▍                               | 10kB 16.1MB/s eta 0:00:01\r\u001b[K     |▊                               | 20kB 22.9MB/s eta 0:00:01\r\u001b[K     |█                               | 30kB 19.0MB/s eta 0:00:01\r\u001b[K     |█▌                              | 40kB 15.8MB/s eta 0:00:01\r\u001b[K     |█▉                              | 51kB 14.6MB/s eta 0:00:01\r\u001b[K     |██▏                             | 61kB 15.1MB/s eta 0:00:01\r\u001b[K     |██▌                             | 71kB 11.3MB/s eta 0:00:01\r\u001b[K     |███                             | 81kB 12.4MB/s eta 0:00:01\r\u001b[K     |███▎                            | 92kB 12.1MB/s eta 0:00:01\r\u001b[K     |███▋                            | 102kB 11.4MB/s eta 0:00:01\r\u001b[K     |████                            | 112kB 11.4MB/s eta 0:00:01\r\u001b[K     |████▍                           | 122kB 11.4MB/s eta 0:00:01\r\u001b[K     |████▊                           | 133kB 11.4MB/s eta 0:00:01\r\u001b[K     |█████                           | 143kB 11.4MB/s eta 0:00:01\r\u001b[K     |█████▍                          | 153kB 11.4MB/s eta 0:00:01\r\u001b[K     |█████▉                          | 163kB 11.4MB/s eta 0:00:01\r\u001b[K     |██████▏                         | 174kB 11.4MB/s eta 0:00:01\r\u001b[K     |██████▌                         | 184kB 11.4MB/s eta 0:00:01\r\u001b[K     |██████▉                         | 194kB 11.4MB/s eta 0:00:01\r\u001b[K     |███████▎                        | 204kB 11.4MB/s eta 0:00:01\r\u001b[K     |███████▋                        | 215kB 11.4MB/s eta 0:00:01\r\u001b[K     |████████                        | 225kB 11.4MB/s eta 0:00:01\r\u001b[K     |████████▎                       | 235kB 11.4MB/s eta 0:00:01\r\u001b[K     |████████▊                       | 245kB 11.4MB/s eta 0:00:01\r\u001b[K     |█████████                       | 256kB 11.4MB/s eta 0:00:01\r\u001b[K     |█████████▍                      | 266kB 11.4MB/s eta 0:00:01\r\u001b[K     |█████████▉                      | 276kB 11.4MB/s eta 0:00:01\r\u001b[K     |██████████▏                     | 286kB 11.4MB/s eta 0:00:01\r\u001b[K     |██████████▌                     | 296kB 11.4MB/s eta 0:00:01\r\u001b[K     |██████████▉                     | 307kB 11.4MB/s eta 0:00:01\r\u001b[K     |███████████▎                    | 317kB 11.4MB/s eta 0:00:01\r\u001b[K     |███████████▋                    | 327kB 11.4MB/s eta 0:00:01\r\u001b[K     |████████████                    | 337kB 11.4MB/s eta 0:00:01\r\u001b[K     |████████████▎                   | 348kB 11.4MB/s eta 0:00:01\r\u001b[K     |████████████▊                   | 358kB 11.4MB/s eta 0:00:01\r\u001b[K     |█████████████                   | 368kB 11.4MB/s eta 0:00:01\r\u001b[K     |█████████████▍                  | 378kB 11.4MB/s eta 0:00:01\r\u001b[K     |█████████████▊                  | 389kB 11.4MB/s eta 0:00:01\r\u001b[K     |██████████████▏                 | 399kB 11.4MB/s eta 0:00:01\r\u001b[K     |██████████████▌                 | 409kB 11.4MB/s eta 0:00:01\r\u001b[K     |██████████████▉                 | 419kB 11.4MB/s eta 0:00:01\r\u001b[K     |███████████████▏                | 430kB 11.4MB/s eta 0:00:01\r\u001b[K     |███████████████▋                | 440kB 11.4MB/s eta 0:00:01\r\u001b[K     |████████████████                | 450kB 11.4MB/s eta 0:00:01\r\u001b[K     |████████████████▎               | 460kB 11.4MB/s eta 0:00:01\r\u001b[K     |████████████████▋               | 471kB 11.4MB/s eta 0:00:01\r\u001b[K     |█████████████████               | 481kB 11.4MB/s eta 0:00:01\r\u001b[K     |█████████████████▍              | 491kB 11.4MB/s eta 0:00:01\r\u001b[K     |█████████████████▊              | 501kB 11.4MB/s eta 0:00:01\r\u001b[K     |██████████████████▏             | 512kB 11.4MB/s eta 0:00:01\r\u001b[K     |██████████████████▌             | 522kB 11.4MB/s eta 0:00:01\r\u001b[K     |██████████████████▉             | 532kB 11.4MB/s eta 0:00:01\r\u001b[K     |███████████████████▏            | 542kB 11.4MB/s eta 0:00:01\r\u001b[K     |███████████████████▋            | 552kB 11.4MB/s eta 0:00:01\r\u001b[K     |████████████████████            | 563kB 11.4MB/s eta 0:00:01\r\u001b[K     |████████████████████▎           | 573kB 11.4MB/s eta 0:00:01\r\u001b[K     |████████████████████▋           | 583kB 11.4MB/s eta 0:00:01\r\u001b[K     |█████████████████████           | 593kB 11.4MB/s eta 0:00:01\r\u001b[K     |█████████████████████▍          | 604kB 11.4MB/s eta 0:00:01\r\u001b[K     |█████████████████████▊          | 614kB 11.4MB/s eta 0:00:01\r\u001b[K     |██████████████████████          | 624kB 11.4MB/s eta 0:00:01\r\u001b[K     |██████████████████████▌         | 634kB 11.4MB/s eta 0:00:01\r\u001b[K     |██████████████████████▉         | 645kB 11.4MB/s eta 0:00:01\r\u001b[K     |███████████████████████▏        | 655kB 11.4MB/s eta 0:00:01\r\u001b[K     |███████████████████████▌        | 665kB 11.4MB/s eta 0:00:01\r\u001b[K     |████████████████████████        | 675kB 11.4MB/s eta 0:00:01\r\u001b[K     |████████████████████████▎       | 686kB 11.4MB/s eta 0:00:01\r\u001b[K     |████████████████████████▋       | 696kB 11.4MB/s eta 0:00:01\r\u001b[K     |█████████████████████████       | 706kB 11.4MB/s eta 0:00:01\r\u001b[K     |█████████████████████████▍      | 716kB 11.4MB/s eta 0:00:01\r\u001b[K     |█████████████████████████▊      | 727kB 11.4MB/s eta 0:00:01\r\u001b[K     |██████████████████████████      | 737kB 11.4MB/s eta 0:00:01\r\u001b[K     |██████████████████████████▍     | 747kB 11.4MB/s eta 0:00:01\r\u001b[K     |██████████████████████████▉     | 757kB 11.4MB/s eta 0:00:01\r\u001b[K     |███████████████████████████▏    | 768kB 11.4MB/s eta 0:00:01\r\u001b[K     |███████████████████████████▌    | 778kB 11.4MB/s eta 0:00:01\r\u001b[K     |████████████████████████████    | 788kB 11.4MB/s eta 0:00:01\r\u001b[K     |████████████████████████████▎   | 798kB 11.4MB/s eta 0:00:01\r\u001b[K     |████████████████████████████▋   | 808kB 11.4MB/s eta 0:00:01\r\u001b[K     |█████████████████████████████   | 819kB 11.4MB/s eta 0:00:01\r\u001b[K     |█████████████████████████████▍  | 829kB 11.4MB/s eta 0:00:01\r\u001b[K     |█████████████████████████████▊  | 839kB 11.4MB/s eta 0:00:01\r\u001b[K     |██████████████████████████████  | 849kB 11.4MB/s eta 0:00:01\r\u001b[K     |██████████████████████████████▍ | 860kB 11.4MB/s eta 0:00:01\r\u001b[K     |██████████████████████████████▉ | 870kB 11.4MB/s eta 0:00:01\r\u001b[K     |███████████████████████████████▏| 880kB 11.4MB/s eta 0:00:01\r\u001b[K     |███████████████████████████████▌| 890kB 11.4MB/s eta 0:00:01\r\u001b[K     |███████████████████████████████▉| 901kB 11.4MB/s eta 0:00:01\r\u001b[K     |████████████████████████████████| 911kB 11.4MB/s \n",
            "\u001b[?25hRequirement already satisfied: urllib3 in /usr/local/lib/python3.6/dist-packages (from selenium) (1.24.3)\n",
            "Installing collected packages: selenium\n",
            "Successfully installed selenium-3.141.0\n"
          ],
          "name": "stdout"
        }
      ]
    },
    {
      "cell_type": "code",
      "metadata": {
        "id": "LnXj26rjcq0T"
      },
      "source": [
        ""
      ],
      "execution_count": null,
      "outputs": []
    },
    {
      "cell_type": "code",
      "metadata": {
        "id": "QvwFOm9Ycqq8"
      },
      "source": [
        ""
      ],
      "execution_count": null,
      "outputs": []
    },
    {
      "cell_type": "code",
      "metadata": {
        "id": "kn6lnOyqcqhM"
      },
      "source": [
        ""
      ],
      "execution_count": null,
      "outputs": []
    },
    {
      "cell_type": "code",
      "metadata": {
        "id": "WPr8exQicqWe"
      },
      "source": [
        ""
      ],
      "execution_count": null,
      "outputs": []
    },
    {
      "cell_type": "code",
      "metadata": {
        "id": "qOptEAPLbR16"
      },
      "source": [
        "grade_lvl = []\r\n",
        "grade_lvl = soup.find_all('div', class_='textLable')[' (grade 3)']\r\n",
        "grade_lvl = soup.find_all('div', class_='textLable')[' (grade 4)'].append(grade_lvl)\r\n",
        "grade_lvl = soup.find_all('div', class_='textLable')[' (grade 5)'].append(grade_lvl)\r\n"
      ],
      "execution_count": null,
      "outputs": []
    },
    {
      "cell_type": "code",
      "metadata": {
        "id": "VnCxzy2_bRmW"
      },
      "source": [
        ""
      ],
      "execution_count": null,
      "outputs": []
    },
    {
      "cell_type": "code",
      "metadata": {
        "id": "DPhGM6PcTDPF"
      },
      "source": [
        "from bs4 import BeautifulSoup\r\n",
        "import requests\r\n",
        "import csv\r\n",
        "\r\n",
        "source = requests.get('http://artsonia.com').text\r\n",
        "  # need to address login\r\n",
        "\r\n",
        "soup = BeautifulSoup(html_file, 'lxml')\r\n",
        "    # identifying prefered parser for bs4\r\n",
        "\r\n",
        "csv_file = open('rjp_scrape.csv', 'w')\r\n",
        "\r\n",
        "csv_writer = csv.writer(csv_file)\r\n",
        "csv_writer = writerow(['image','grade_level'])#'image_src'])\r\n",
        "\r\n",
        "for image in soup.find_all('image'):\r\n",
        "    art_image = image.h2.a.text\r\n",
        "    print(headline)\r\n",
        "\r\n",
        "    grade_level = image.find('div', class_='textLable')[[' (grade 3)', ' (grade 4)', ' (grade 5)']]\r\n",
        "\r\n",
        "    # image_source = image.find('img', class_='grid-item-art')['src']\r\n",
        "    # print(image_source) \r\n",
        "\r\n",
        "    # try:\r\n",
        "    #   image_id = video_source.split('/')[4]\r\n",
        "    #   image_id = video_source.split('?')[0]\r\n",
        "\r\n",
        "    #   image_link = f'http://images.artsonia.com/art/{image_id}.jpg'      \r\n",
        "\r\n",
        "    # except Exception as e:\r\n",
        "    #   image_link = None\r\n",
        "\r\n",
        "    # print(image_link)\r\n",
        "\r\n",
        "    print()\r\n",
        "\r\n",
        "    csv_writer.writerow([art_image, grade_level]) #image_src])\r\n",
        "\r\n",
        "csv_file.close()\r\n"
      ],
      "execution_count": null,
      "outputs": []
    }
  ]
}